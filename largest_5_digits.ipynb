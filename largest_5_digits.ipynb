{
 "cells": [
  {
   "cell_type": "markdown",
   "metadata": {},
   "source": [
    "#### Description\n",
    "In the following 6 digit number:\n",
    "\n",
    " - 283910\n",
    "\n",
    "91 is the greatest sequence of 2 digits.\n",
    "\n",
    "Complete the solution so that it returns the largest *five* digit number found within the number given.\n",
    "\n",
    "The number will be passed in as a **string** of only digits. It should return a five digit integer. The number passed may be as large as 1000 digits.\n",
    "\n"
   ]
  },
  {
   "cell_type": "markdown",
   "metadata": {},
   "source": [
    "##### Initial solution"
   ]
  },
  {
   "cell_type": "code",
   "execution_count": 117,
   "metadata": {
    "collapsed": false
   },
   "outputs": [],
   "source": [
    "def high_num(digits):\n",
    "    lower = 0\n",
    "    upper = 5\n",
    "    winner = 0\n",
    "    length = len(digits)\n",
    "    while length > 4:\n",
    "        if int(digits[lower:upper]) > winner:\n",
    "            winner = int(digits[lower:upper])\n",
    "        lower+=1\n",
    "        upper+=1\n",
    "        length -=1\n",
    "    return winner"
   ]
  },
  {
   "cell_type": "code",
   "execution_count": 118,
   "metadata": {
    "collapsed": false
   },
   "outputs": [
    {
     "data": {
      "text/plain": [
       "79999"
      ]
     },
     "execution_count": 118,
     "metadata": {},
     "output_type": "execute_result"
    }
   ],
   "source": [
    "high_num('777479999')"
   ]
  },
  {
   "cell_type": "markdown",
   "metadata": {},
   "source": [
    "##### Improvements"
   ]
  },
  {
   "cell_type": "code",
   "execution_count": 119,
   "metadata": {
    "collapsed": true
   },
   "outputs": [],
   "source": [
    "def high_num2(digits):\n",
    "    return max([int(digits[i:i+5]) for i in range(len(digits)-4)])"
   ]
  },
  {
   "cell_type": "code",
   "execution_count": 120,
   "metadata": {
    "collapsed": false
   },
   "outputs": [
    {
     "data": {
      "text/plain": [
       "79999"
      ]
     },
     "execution_count": 120,
     "metadata": {},
     "output_type": "execute_result"
    }
   ],
   "source": [
    "high_num2('777479999')"
   ]
  }
 ],
 "metadata": {
  "anaconda-cloud": {},
  "kernelspec": {
   "display_name": "Python [Root]",
   "language": "python",
   "name": "Python [Root]"
  },
  "language_info": {
   "codemirror_mode": {
    "name": "ipython",
    "version": 2
   },
   "file_extension": ".py",
   "mimetype": "text/x-python",
   "name": "python",
   "nbconvert_exporter": "python",
   "pygments_lexer": "ipython2",
   "version": "2.7.12"
  }
 },
 "nbformat": 4,
 "nbformat_minor": 0
}
