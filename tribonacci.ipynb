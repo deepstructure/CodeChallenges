{
 "cells": [
  {
   "cell_type": "markdown",
   "metadata": {},
   "source": [
    "#### Description\n",
    "You need to create a fibonacci function that given a signature array/list, returns the first n elements (signature included), of the so seeded sequence.\n",
    "\n",
    "Specifications:\n",
    "- Signature will always contain 3 numbers\n",
    "- n will always be a non-negative number\n",
    "- if n==0, then return an empty array\n",
    "- be ready for anything else which is not clearly specified "
   ]
  },
  {
   "cell_type": "markdown",
   "metadata": {},
   "source": [
    "##### Initial solution"
   ]
  },
  {
   "cell_type": "code",
   "execution_count": null,
   "metadata": {
    "collapsed": false
   },
   "outputs": [],
   "source": [
    "def tribonacci(signature,n):\n",
    "    if n > 3:\n",
    "        for i in range(0,n-3):\n",
    "            signature.append(sum(signature[-3:]))\n",
    "        return signature\n",
    "    elif n == 0:\n",
    "        return []\n",
    "    else:\n",
    "        return signature[:n]     "
   ]
  },
  {
   "cell_type": "code",
   "execution_count": null,
   "metadata": {
    "collapsed": false
   },
   "outputs": [],
   "source": [
    "tribonacci([5,4,5], 8)"
   ]
  },
  {
   "cell_type": "code",
   "execution_count": null,
   "metadata": {
    "collapsed": false
   },
   "outputs": [],
   "source": [
    "tribonacci([5,4,5], 0)"
   ]
  },
  {
   "cell_type": "markdown",
   "metadata": {},
   "source": [
    "##### Improvements"
   ]
  },
  {
   "cell_type": "code",
   "execution_count": null,
   "metadata": {
    "collapsed": false
   },
   "outputs": [],
   "source": [
    "def tribonacci2(signature,n):\n",
    "    if n <=3:\n",
    "        return signature[:n]\n",
    "    else:\n",
    "        for i in range(n-3):\n",
    "            signature.append(sum(signature[-3:]))        \n",
    "        return signature"
   ]
  },
  {
   "cell_type": "code",
   "execution_count": null,
   "metadata": {
    "collapsed": false
   },
   "outputs": [],
   "source": [
    "tribonacci2([5,4,5], 8)"
   ]
  },
  {
   "cell_type": "code",
   "execution_count": null,
   "metadata": {
    "collapsed": false
   },
   "outputs": [],
   "source": [
    "tribonacci([5,4,5], 0)"
   ]
  }
 ],
 "metadata": {
  "anaconda-cloud": {},
  "kernelspec": {
   "display_name": "Python [Root]",
   "language": "python",
   "name": "Python [Root]"
  },
  "language_info": {
   "codemirror_mode": {
    "name": "ipython",
    "version": 2
   },
   "file_extension": ".py",
   "mimetype": "text/x-python",
   "name": "python",
   "nbconvert_exporter": "python",
   "pygments_lexer": "ipython2",
   "version": "2.7.12"
  }
 },
 "nbformat": 4,
 "nbformat_minor": 0
}
