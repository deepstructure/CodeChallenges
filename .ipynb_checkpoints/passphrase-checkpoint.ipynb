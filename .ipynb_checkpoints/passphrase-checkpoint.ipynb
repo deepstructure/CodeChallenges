{
 "cells": [
  {
   "cell_type": "markdown",
   "metadata": {},
   "source": [
    "#### Description\n",
    "Everyone knows passphrases. One can choose passphrases from poems, songs, movies names and so on but frequently they can be guessed due to common cultural references. You can get your passphrases stronger by different means. One is the following:\n",
    "\n",
    " - Choose text in capital letters including or not digits and non alphabetic characters\n",
    " Then:\n",
    "     1. Shift each letter by the given number but the transformed letter must be a letter (circular shift)\n",
    "     2. Replace each digit by its complement to 9\n",
    "     3. Keep such as non alphabetic and non digit characters\n",
    "     4. Downcase each letter in odd position, upcase each letter in even position (the first character is in position 0)\n",
    "     5. Reverse the whole result\n",
    "\n",
    "Example:\n",
    "\n",
    "Your text: \"BORN IN 2015!\"  \n",
    "Shift: 1\n",
    "\n",
    "Steps 1, 2, 3 = \"CPSO JO 7984!\"\n",
    "\n",
    "Step 4 = \"CpSo jO 7984!\"\n",
    "\n",
    "Step: 5 = \"!4897 Oj oSpC\"\n",
    "\n"
   ]
  },
  {
   "cell_type": "markdown",
   "metadata": {},
   "source": [
    "##### Initial solution"
   ]
  },
  {
   "cell_type": "code",
   "execution_count": 90,
   "metadata": {
    "collapsed": false
   },
   "outputs": [],
   "source": [
    "def play_pass(s, n):\n",
    "    new_string = ''\n",
    "    for c, i in enumerate(s):\n",
    "        if i.isalpha():\n",
    "            y = n + ord(i)\n",
    "            if c % 2 == 0:\n",
    "                if y > 90:\n",
    "                    new_string += chr(65 + abs(90 - y)-1).upper()\n",
    "                else:\n",
    "                    new_string += chr(y).upper()\n",
    "            else:\n",
    "                if y > 90:\n",
    "                    new_string += chr(65 + abs(90 - y)-1).lower()\n",
    "                else:\n",
    "                    new_string += chr(y).lower()\n",
    "        elif i.isdigit():\n",
    "            new_string += str(9 - int(i))\n",
    "        else:\n",
    "            new_string += i    \n",
    "    return new_string[::-1]"
   ]
  },
  {
   "cell_type": "code",
   "execution_count": 91,
   "metadata": {
    "collapsed": false
   },
   "outputs": [
    {
     "data": {
      "text/plain": [
       "'!6dIzSp iYvX'"
      ]
     },
     "execution_count": 91,
     "metadata": {},
     "output_type": "execute_result"
    }
   ],
   "source": [
    "play_pass(\"TRUE LOVEZ3!\", 4)"
   ]
  },
  {
   "cell_type": "code",
   "execution_count": 92,
   "metadata": {
    "collapsed": false
   },
   "outputs": [
    {
     "data": {
      "text/plain": [
       "'!6[FwPm fVsU'"
      ]
     },
     "execution_count": 92,
     "metadata": {},
     "output_type": "execute_result"
    }
   ],
   "source": [
    "play_pass(\"TRUE LOVEZ3!\", 27)"
   ]
  },
  {
   "cell_type": "markdown",
   "metadata": {},
   "source": [
    "##### Improvements\n",
    "Update note: my original solution passed, but afterwards I realized that it shouldn't have. It doesn't account for a shift value greater than 26. The following improvements have been updated to reflect that."
   ]
  },
  {
   "cell_type": "code",
   "execution_count": 93,
   "metadata": {
    "collapsed": false
   },
   "outputs": [],
   "source": [
    "def play_pass2(s, n):\n",
    "    new_string = ''\n",
    "    for c, i in enumerate(s):\n",
    "        if i.isalpha():\n",
    "            y = n + ord(i)\n",
    "            if c % 2 == 0:\n",
    "                new_string += chr(65 + y % 26).upper() if y > 90 else chr(y).upper()\n",
    "            else:\n",
    "                new_string += chr(65 + y % 26).lower() if y > 90 else chr(y).lower()\n",
    "        elif i.isdigit():\n",
    "            new_string += str(9 - int(i))\n",
    "        else:\n",
    "            new_string += i    \n",
    "    return new_string[::-1]"
   ]
  },
  {
   "cell_type": "code",
   "execution_count": 94,
   "metadata": {
    "collapsed": false
   },
   "outputs": [
    {
     "data": {
      "text/plain": [
       "'!6qIzSp iYvX'"
      ]
     },
     "execution_count": 94,
     "metadata": {},
     "output_type": "execute_result"
    }
   ],
   "source": [
    "play_pass2(\"TRUE LOVEZ3!\", 4)"
   ]
  },
  {
   "cell_type": "code",
   "execution_count": 95,
   "metadata": {
    "collapsed": false
   },
   "outputs": [
    {
     "data": {
      "text/plain": [
       "'!6nSjCz sIfH'"
      ]
     },
     "execution_count": 95,
     "metadata": {},
     "output_type": "execute_result"
    }
   ],
   "source": [
    "play_pass2(\"TRUE LOVEZ3!\", 27)"
   ]
  },
  {
   "cell_type": "code",
   "execution_count": 96,
   "metadata": {
    "collapsed": false
   },
   "outputs": [],
   "source": [
    "def play_pass3(s, n):\n",
    "    shifted = [\"\".join([chr(65 + (n + ord(i)) % 26) if n + ord(i) > 90 else chr(n + ord(i))]) if i.isalpha() else i for i in s]\n",
    "    cased = [i.lower() if c %2 != 0 else i for c, i in enumerate(shifted)]\n",
    "    offset = [str(9 - int(i)) if i.isdigit() else i for i in cased]\n",
    "    return \"\".join(offset[::-1])"
   ]
  },
  {
   "cell_type": "code",
   "execution_count": 97,
   "metadata": {
    "collapsed": false
   },
   "outputs": [
    {
     "data": {
      "text/plain": [
       "'!6nSjCz sIfH'"
      ]
     },
     "execution_count": 97,
     "metadata": {},
     "output_type": "execute_result"
    }
   ],
   "source": [
    "play_pass3(\"TRUE LOVEZ3!\", 27)"
   ]
  }
 ],
 "metadata": {
  "anaconda-cloud": {},
  "kernelspec": {
   "display_name": "Python [Root]",
   "language": "python",
   "name": "Python [Root]"
  },
  "language_info": {
   "codemirror_mode": {
    "name": "ipython",
    "version": 2
   },
   "file_extension": ".py",
   "mimetype": "text/x-python",
   "name": "python",
   "nbconvert_exporter": "python",
   "pygments_lexer": "ipython2",
   "version": "2.7.12"
  }
 },
 "nbformat": 4,
 "nbformat_minor": 0
}
