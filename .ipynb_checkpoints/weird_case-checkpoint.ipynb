{
 "cells": [
  {
   "cell_type": "markdown",
   "metadata": {},
   "source": [
    "#### Description\n",
    "Write a function toWeirdCase that accepts a string and returns the same string with all even indexed characters in each word upper cased and all odd indexed characters in each word lower cased. The indexing just explained is zero based so the zero-ith index is even, therefore that character should be upper cased.\n",
    "\n",
    "The passed in string will only consist of alphabetical characters and spaces(' '). Spaces will only be present if there are multiple words. Words will be separated by a single space(' ').\n",
    "\n",
    "Examples:\n",
    "\n",
    "- to_weird_case('String'); # => returns 'StRiNg'\n",
    "- to_weird_case('Weird string case') # => returns 'WeIrD StRiNg CaSe'"
   ]
  },
  {
   "cell_type": "markdown",
   "metadata": {},
   "source": [
    "##### Initial solution"
   ]
  },
  {
   "cell_type": "code",
   "execution_count": 1,
   "metadata": {
    "collapsed": true
   },
   "outputs": [],
   "source": [
    "def to_weird_case(string):\n",
    "    words = string.split()\n",
    "    convert = []\n",
    "    for i in words:\n",
    "        word = []\n",
    "        for e, l in enumerate(i):\n",
    "            if e % 2 == 0:\n",
    "                word.append(l.upper())\n",
    "            else:\n",
    "                word.append(l.lower())\n",
    "        convert.append(word)\n",
    "    backstring = ''\n",
    "    for i in convert:\n",
    "        backstring+=(''.join(i))+' '\n",
    "    return backstring.strip()"
   ]
  },
  {
   "cell_type": "code",
   "execution_count": 2,
   "metadata": {
    "collapsed": false
   },
   "outputs": [
    {
     "data": {
      "text/plain": [
       "'TeSt StRiNg'"
      ]
     },
     "execution_count": 2,
     "metadata": {},
     "output_type": "execute_result"
    }
   ],
   "source": [
    "to_weird_case('Test String')"
   ]
  },
  {
   "cell_type": "markdown",
   "metadata": {},
   "source": [
    "##### Improvements"
   ]
  },
  {
   "cell_type": "code",
   "execution_count": 3,
   "metadata": {
    "collapsed": true
   },
   "outputs": [],
   "source": [
    "def to_weird_case2(string):\n",
    "    backstring = ''\n",
    "    for i in string.split():\n",
    "        backstring+=(''.join([l.upper() if e % 2 == 0 else l.lower() for e, l in enumerate(i)]))+' '\n",
    "    return backstring.strip()"
   ]
  },
  {
   "cell_type": "code",
   "execution_count": 4,
   "metadata": {
    "collapsed": false
   },
   "outputs": [
    {
     "data": {
      "text/plain": [
       "'TeSt StRiNg'"
      ]
     },
     "execution_count": 4,
     "metadata": {},
     "output_type": "execute_result"
    }
   ],
   "source": [
    "to_weird_case2('Test string')"
   ]
  },
  {
   "cell_type": "code",
   "execution_count": 5,
   "metadata": {
    "collapsed": true
   },
   "outputs": [],
   "source": [
    "# solutions from codewars:\n",
    "def to_weird_case(string):\n",
    "    recase = lambda s: \"\".join([c.upper() if i % 2 == 0 else c.lower() for i, c in enumerate(s)])\n",
    "    return \" \".join([recase(word) for word in string.split(\" \")])"
   ]
  }
 ],
 "metadata": {
  "anaconda-cloud": {},
  "kernelspec": {
   "display_name": "Python [Root]",
   "language": "python",
   "name": "Python [Root]"
  },
  "language_info": {
   "codemirror_mode": {
    "name": "ipython",
    "version": 2
   },
   "file_extension": ".py",
   "mimetype": "text/x-python",
   "name": "python",
   "nbconvert_exporter": "python",
   "pygments_lexer": "ipython2",
   "version": "2.7.12"
  }
 },
 "nbformat": 4,
 "nbformat_minor": 0
}
